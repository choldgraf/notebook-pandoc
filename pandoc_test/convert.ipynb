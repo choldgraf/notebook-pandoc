{
 "cells": [
  {
   "cell_type": "code",
   "execution_count": 1,
   "metadata": {},
   "outputs": [],
   "source": [
    "from subprocess import run as sbrun\n",
    "from subprocess import PIPE, CalledProcessError"
   ]
  },
  {
   "cell_type": "code",
   "execution_count": 2,
   "metadata": {},
   "outputs": [],
   "source": [
    "def run(cmd, *args, **kwargs):\n",
    "    try:\n",
    "        out = sbrun(cmd.split(), stderr=PIPE, stdout=PIPE, check=True, *args, **kwargs)\n",
    "        out = out.stdout.decode()\n",
    "        if len(out) > 1:\n",
    "            print(out)\n",
    "        print(\"Completed!\")\n",
    "    except CalledProcessError as e:\n",
    "        print(e.stderr.decode())"
   ]
  },
  {
   "cell_type": "code",
   "execution_count": 3,
   "metadata": {},
   "outputs": [
    {
     "name": "stdout",
     "output_type": "stream",
     "text": [
      "pandoc [OPTIONS] [FILES]\n",
      "  -f FORMAT, -r FORMAT  --from=FORMAT, --read=FORMAT                    \n",
      "  -t FORMAT, -w FORMAT  --to=FORMAT, --write=FORMAT                     \n",
      "  -o FILE               --output=FILE                                   \n",
      "                        --wrap=auto|none|preserve                       \n",
      "  -s                    --standalone                                    \n",
      "                        --template=FILE                                 \n",
      "                        --data-dir=DIRECTORY                            \n",
      "  -M KEY[:VALUE]        --metadata=KEY[:VALUE]                          \n",
      "                        --metadata-file=FILE                            \n",
      "  -V KEY[:VALUE]        --variable=KEY[:VALUE]                          \n",
      "                        --ascii                                         \n",
      "                        --toc, --table-of-contents                      \n",
      "                        --toc-depth=NUMBER                              \n",
      "  -N                    --number-sections                               \n",
      "                        --number-offset=NUMBERS                         \n",
      "                        --top-level-division=section|chapter|part       \n",
      "                        --extract-media=PATH                            \n",
      "                        --resource-path=SEARCHPATH                      \n",
      "  -H FILE               --include-in-header=FILE                        \n",
      "  -B FILE               --include-before-body=FILE                      \n",
      "  -A FILE               --include-after-body=FILE                       \n",
      "                        --no-highlight                                  \n",
      "                        --highlight-style=STYLE|FILE                    \n",
      "                        --syntax-definition=FILE                        \n",
      "                        --dpi=NUMBER                                    \n",
      "                        --eol=crlf|lf|native                            \n",
      "                        --columns=NUMBER                                \n",
      "  -p                    --preserve-tabs                                 \n",
      "                        --tab-stop=NUMBER                               \n",
      "                        --pdf-engine=PROGRAM                            \n",
      "                        --pdf-engine-opt=STRING                         \n",
      "                        --reference-doc=FILE                            \n",
      "                        --self-contained                                \n",
      "                        --request-header=NAME:VALUE                     \n",
      "                        --file-scope                                    \n",
      "                        --abbreviations=FILE                            \n",
      "                        --indented-code-classes=STRING                  \n",
      "                        --default-image-extension=extension             \n",
      "  -F PROGRAM            --filter=PROGRAM                                \n",
      "                        --lua-filter=SCRIPTPATH                         \n",
      "                        --base-header-level=NUMBER                      \n",
      "                        --strip-empty-paragraphs                        \n",
      "                        --track-changes=accept|reject|all               \n",
      "                        --strip-comments                                \n",
      "                        --reference-links                               \n",
      "                        --reference-location=block|section|document     \n",
      "                        --atx-headers                                   \n",
      "                        --listings                                      \n",
      "  -i                    --incremental                                   \n",
      "                        --slide-level=NUMBER                            \n",
      "                        --section-divs                                  \n",
      "                        --html-q-tags                                   \n",
      "                        --email-obfuscation=none|javascript|references  \n",
      "                        --id-prefix=STRING                              \n",
      "  -T STRING             --title-prefix=STRING                           \n",
      "  -c URL                --css=URL                                       \n",
      "                        --epub-subdirectory=DIRNAME                     \n",
      "                        --epub-cover-image=FILE                         \n",
      "                        --epub-metadata=FILE                            \n",
      "                        --epub-embed-font=FILE                          \n",
      "                        --epub-chapter-level=NUMBER                     \n",
      "                        --ipynb-output=all|none|best                    \n",
      "                        --bibliography=FILE                             \n",
      "                        --csl=FILE                                      \n",
      "                        --citation-abbreviations=FILE                   \n",
      "                        --natbib                                        \n",
      "                        --biblatex                                      \n",
      "                        --mathml                                        \n",
      "                        --webtex[=URL]                                  \n",
      "                        --mathjax[=URL]                                 \n",
      "                        --katex[=URL]                                   \n",
      "                        --gladtex                                       \n",
      "                        --trace                                         \n",
      "                        --dump-args                                     \n",
      "                        --ignore-args                                   \n",
      "                        --verbose                                       \n",
      "                        --quiet                                         \n",
      "                        --fail-if-warnings                              \n",
      "                        --log=FILE                                      \n",
      "                        --bash-completion                               \n",
      "                        --list-input-formats                            \n",
      "                        --list-output-formats                           \n",
      "                        --list-extensions[=FORMAT]                      \n",
      "                        --list-highlight-languages                      \n",
      "                        --list-highlight-styles                         \n",
      "  -D FORMAT             --print-default-template=FORMAT                 \n",
      "                        --print-default-data-file=FILE                  \n",
      "                        --print-highlight-style=STYLE|FILE              \n",
      "  -v                    --version                                       \n",
      "  -h                    --help                                          \n",
      "\n",
      "Completed!\n"
     ]
    }
   ],
   "source": [
    "run('pandoc -h ')"
   ]
  },
  {
   "cell_type": "markdown",
   "metadata": {},
   "source": [
    "## `--extract-media`: Moves media to a folder"
   ]
  },
  {
   "cell_type": "markdown",
   "metadata": {},
   "source": [
    "## `-o`: Choose an output folder"
   ]
  },
  {
   "cell_type": "markdown",
   "metadata": {},
   "source": [
    "## `-t` `markdown`, `gfm`: "
   ]
  },
  {
   "cell_type": "code",
   "execution_count": 4,
   "metadata": {},
   "outputs": [],
   "source": [
    "!rm -rf outputs/images/"
   ]
  },
  {
   "cell_type": "code",
   "execution_count": 5,
   "metadata": {},
   "outputs": [
    {
     "name": "stdout",
     "output_type": "stream",
     "text": [
      "Completed!\n"
     ]
    }
   ],
   "source": [
    "# ipynb -> gfmd\n",
    "run('pandoc inputs/notebooks.ipynb --resource-path=inputs -s --extract-media=outputs/images -o outputs/gfmd_from_ipynb.md -t gfm')"
   ]
  },
  {
   "cell_type": "code",
   "execution_count": 12,
   "metadata": {},
   "outputs": [
    {
     "name": "stdout",
     "output_type": "stream",
     "text": [
      "Completed!\n"
     ]
    }
   ],
   "source": [
    "# ipynb -> pandoc md\n",
    "run('pandoc inputs/notebooks.ipynb --resource-path=inputs -s --extract-media=outputs/images -o outputs/md_from_ipynb.md')"
   ]
  },
  {
   "cell_type": "code",
   "execution_count": 13,
   "metadata": {},
   "outputs": [
    {
     "name": "stdout",
     "output_type": "stream",
     "text": [
      "Completed!\n"
     ]
    }
   ],
   "source": [
    "# md -> ipynb roundtrip\n",
    "run('pandoc outputs/md_from_ipynb.md --extract-media=images/ -o outputs/roundtrip/ipynb_from_md.ipynb')"
   ]
  },
  {
   "cell_type": "markdown",
   "metadata": {},
   "source": [
    "### Standalone with `-s`"
   ]
  },
  {
   "cell_type": "code",
   "execution_count": 12,
   "metadata": {},
   "outputs": [
    {
     "name": "stdout",
     "output_type": "stream",
     "text": [
      "Completed!\n"
     ]
    }
   ],
   "source": [
    "run('pandoc inputs/notebooks.ipynb --resource-path=inputs --extract-media=images -s -o outputs/md_from_ipynb_standalone.md')"
   ]
  },
  {
   "cell_type": "code",
   "execution_count": 13,
   "metadata": {},
   "outputs": [
    {
     "name": "stdout",
     "output_type": "stream",
     "text": [
      "Completed!\n"
     ]
    }
   ],
   "source": [
    "# md -> ipynb roundtrip\n",
    "run('pandoc outputs/md_from_ipynb_standalone.md --extract-media=images -o outputs/roundtrip/ipynb_from_md_standalone.ipynb --resource-path=outputs')\n"
   ]
  },
  {
   "cell_type": "markdown",
   "metadata": {},
   "source": [
    "## `-t ipynb` from custom markdown"
   ]
  },
  {
   "cell_type": "code",
   "execution_count": 40,
   "metadata": {},
   "outputs": [
    {
     "name": "stdout",
     "output_type": "stream",
     "text": [
      "Completed!\n"
     ]
    }
   ],
   "source": [
    "run('pandoc inputs/notebook_md.md --extract-media=images -s -o outputs/ipynb_from_md.ipynb')"
   ]
  },
  {
   "cell_type": "markdown",
   "metadata": {},
   "source": [
    "## `-t native`: Native structure of a notebook"
   ]
  },
  {
   "cell_type": "code",
   "execution_count": 27,
   "metadata": {},
   "outputs": [
    {
     "name": "stdout",
     "output_type": "stream",
     "text": [
      "Completed!\n"
     ]
    }
   ],
   "source": [
    "run('pandoc inputs/notebooks.ipynb -s -t native -o outputs/native.txt')"
   ]
  },
  {
   "cell_type": "markdown",
   "metadata": {},
   "source": [
    "## `-t html`: HTML output"
   ]
  },
  {
   "cell_type": "code",
   "execution_count": 63,
   "metadata": {},
   "outputs": [
    {
     "name": "stdout",
     "output_type": "stream",
     "text": [
      "Completed!\n"
     ]
    }
   ],
   "source": [
    "run('pandoc inputs/notebooks.ipynb --resource-path=inputs -f ipynb+citations --bibliography inputs/references.bib -c styles.css -c custom.css -s --self-contained -o outputs/html_from_ipynb_standalone.html --metadata pagetitle=\"test\"')"
   ]
  },
  {
   "cell_type": "markdown",
   "metadata": {},
   "source": [
    "## `--bibliography`: Add a bibliography\n",
    "\n",
    "Converting from markdown seems to work, but converting from ipynb doesn't seem to process the markdown"
   ]
  },
  {
   "cell_type": "code",
   "execution_count": 22,
   "metadata": {},
   "outputs": [
    {
     "name": "stdout",
     "output_type": "stream",
     "text": [
      "Completed!\n"
     ]
    }
   ],
   "source": [
    "\n",
    "run('pandoc inputs/bib_demo.ipynb -f ipynb+citations -o outputs/bib_demo.md --resource-path=inputs -s --self-contained --bibliography=inputs/references.bib --filter pandoc-citeproc')"
   ]
  },
  {
   "cell_type": "markdown",
   "metadata": {},
   "source": [
    "## `-t pdf` `--pdf-engine=wkhtmltopdf`"
   ]
  },
  {
   "cell_type": "code",
   "execution_count": 62,
   "metadata": {},
   "outputs": [
    {
     "name": "stdout",
     "output_type": "stream",
     "text": [
      "Completed!\n"
     ]
    }
   ],
   "source": [
    "run('pandoc inputs/notebooks.ipynb -f ipynb+citations --bibliography inputs/references.bib -o outputs/pdf_wkhtml.pdf -s --self-contained --pdf-engine=wkhtmltopdf -c inputs/styles.css -c inputs/custom.css  ')"
   ]
  },
  {
   "cell_type": "markdown",
   "metadata": {},
   "source": [
    "## `-t pdf` with latex"
   ]
  },
  {
   "cell_type": "code",
   "execution_count": 43,
   "metadata": {},
   "outputs": [
    {
     "name": "stdout",
     "output_type": "stream",
     "text": [
      "Completed!\n"
     ]
    }
   ],
   "source": [
    "run('pandoc inputs/notebooks.ipynb -o outputs/pdf_latex.pdf  -s --self-contained')"
   ]
  },
  {
   "cell_type": "markdown",
   "metadata": {},
   "source": [
    "## Pandoc markdown"
   ]
  },
  {
   "cell_type": "code",
   "execution_count": 7,
   "metadata": {},
   "outputs": [],
   "source": [
    "run(\"pandoc inputs/notebooks.ipynb -o outputs/notebooks.md --extract-media outputs/images/"
   ]
  },
  {
   "cell_type": "code",
   "execution_count": 28,
   "metadata": {},
   "outputs": [],
   "source": [
    "err = run(\"pandoc notebook_md.md -o ../outputs/notebook_from_md.ipynb\".split(), cwd='inputs/', stderr=PIPE)"
   ]
  },
  {
   "cell_type": "code",
   "execution_count": 26,
   "metadata": {},
   "outputs": [
    {
     "data": {
      "text/plain": [
       "b''"
      ]
     },
     "execution_count": 26,
     "metadata": {},
     "output_type": "execute_result"
    }
   ],
   "source": [
    "err.stderr"
   ]
  },
  {
   "cell_type": "code",
   "execution_count": null,
   "metadata": {},
   "outputs": [],
   "source": []
  },
  {
   "cell_type": "markdown",
   "metadata": {},
   "source": [
    "# jupytext"
   ]
  },
  {
   "cell_type": "code",
   "execution_count": 14,
   "metadata": {},
   "outputs": [
    {
     "name": "stdout",
     "output_type": "stream",
     "text": [
      "usage: jupytext [-h] [--from INPUT_FORMAT] [--pre-commit] [--to TO]\n",
      "                [--format-options FORMAT_OPTIONS] [--set-formats SET_FORMATS]\n",
      "                [--update-metadata UPDATE_METADATA] [-o OUTPUT] [--update]\n",
      "                [--version | --paired-paths | --sync | --test | --test-strict]\n",
      "                [--stop] [--pipe PIPE] [--check CHECK] [--pipe-fmt PIPE_FMT]\n",
      "                [--quiet]\n",
      "                [notebooks [notebooks ...]]\n",
      "\n",
      "Jupyter notebooks as markdown documents, Julia, Python or R scripts\n",
      "\n",
      "positional arguments:\n",
      "  notebooks             One or more notebook(s). Notebook is read from stdin when this argument is empty\n",
      "\n",
      "optional arguments:\n",
      "  -h, --help            show this help message and exit\n",
      "  --from INPUT_FORMAT   Optional: jupytext format for the input(s). Inferred from the file extension and content when missing.\n",
      "  --pre-commit          Ignore the notebook argument, and instead apply Jupytext on the notebooks found in the git index, which have an extension that matches the (optional) --from argument.\n",
      "  --to TO               Destination format: either one of 'notebook', 'markdown', 'rmarkdown', any valid notebook extension, or a full format '[prefix_path//][suffix.]ext[:format_name]\n",
      "  --format-options FORMAT_OPTIONS, --opt FORMAT_OPTIONS\n",
      "                        Set format options with e.g. --opt comment_magics=true --opt notebook_metadata_filter=-kernelspec.\n",
      "  --set-formats SET_FORMATS\n",
      "                        Set jupytext.formats metadata to the given value. Use this to activate pairing on a notebook, with e.g. --set-formats ipynb,py:light\n",
      "  --update-metadata UPDATE_METADATA\n",
      "                        Update the notebook metadata with the desired dictionary. Argument must be given in JSON format. For instance, if you want to activate a pairing in the generated file, use e.g. '{\"jupytext\":{\"formats\":\"ipynb,py:light\"}}'\n",
      "  -o OUTPUT, --output OUTPUT\n",
      "                        Destination file. Defaults to the original file, with prefix/suffix/extension changedaccording to the destination format. Use '-' to print the notebook on stdout.\n",
      "  --update              Preserve the output cells when the destination notebook is a .ipynb file that already exists\n",
      "  --version             Show jupytext's version number and exit\n",
      "  --paired-paths, -p    List the locations of the alternative representations for this notebook.\n",
      "  --sync, -s            Synchronize the content of the paired representations of the given notebook. Input cells are taken from the file that was last modified, and outputs are read from the ipynb file, if present.\n",
      "  --test                Test that notebook is stable under a round trip conversion, up to the expected changes\n",
      "  --test-strict         Test that notebook is strictly stable under a round trip conversion\n",
      "  --stop, -x            In --test mode, stop on first round trip conversion error, and report stack traceback\n",
      "  --pipe PIPE           Pipe the text representation of the notebook into another program, and read thenotebook back. For instance, reformat your notebook with:    jupytext notebook.ipynb --pipe blackIf you want to reformat it and sync the paired representation, execute:    jupytext notebook.ipynb --sync --pipe black\n",
      "  --check CHECK         Pipe the text representation of the notebook into another program, and test that the returned value is non zero. For instance, test that your notebook is pep8 compliant with:    jupytext notebook.ipynb --check flake8\n",
      "  --pipe-fmt PIPE_FMT   The format in which the notebook should be piped to other programs, when using the --pipe and/or --check commands.\n",
      "  --quiet, -q           Quiet mode: do not comment about files being updated or created\n",
      "\n",
      "Completed!\n"
     ]
    }
   ],
   "source": [
    "run('jupytext -h')"
   ]
  },
  {
   "cell_type": "code",
   "execution_count": 18,
   "metadata": {},
   "outputs": [
    {
     "name": "stdout",
     "output_type": "stream",
     "text": [
      "[jupytext] Reading inputs/notebooks.ipynb\n",
      "[jupytext] Writing outputs/notebooks_jupytext.md\n",
      "\n",
      "Completed!\n"
     ]
    }
   ],
   "source": [
    "run('jupytext --to md inputs/notebooks.ipynb -o outputs/notebooks_jupytext.md')"
   ]
  },
  {
   "cell_type": "markdown",
   "metadata": {},
   "source": [
    "## Rmd"
   ]
  },
  {
   "cell_type": "code",
   "execution_count": 22,
   "metadata": {},
   "outputs": [
    {
     "name": "stdout",
     "output_type": "stream",
     "text": [
      "[jupytext] Reading inputs/notebooks.ipynb\n",
      "[jupytext] Writing outputs/notebooks_jupytext.Rmd (destination file replaced)\n",
      "\n",
      "Completed!\n"
     ]
    }
   ],
   "source": [
    "run('jupytext --to Rmd inputs/notebooks.ipynb -o outputs/notebooks_jupytext.Rmd')"
   ]
  },
  {
   "cell_type": "code",
   "execution_count": 24,
   "metadata": {},
   "outputs": [
    {
     "name": "stdout",
     "output_type": "stream",
     "text": [
      "[jupytext] Reading outputs/notebooks_jupytext.Rmd\n",
      "[jupytext] Writing outputs/notebooks_jupytext_roundtrip.ipynb\n",
      "\n",
      "Completed!\n"
     ]
    }
   ],
   "source": [
    "run('jupytext --to notebook outputs/notebooks_jupytext.Rmd -o outputs/notebooks_jupytext_roundtrip.ipynb')"
   ]
  },
  {
   "cell_type": "code",
   "execution_count": null,
   "metadata": {},
   "outputs": [],
   "source": []
  }
 ],
 "metadata": {
  "kernelspec": {
   "display_name": "Python 3",
   "language": "python",
   "name": "python3"
  },
  "language_info": {
   "codemirror_mode": {
    "name": "ipython",
    "version": 3
   },
   "file_extension": ".py",
   "mimetype": "text/x-python",
   "name": "python",
   "nbconvert_exporter": "python",
   "pygments_lexer": "ipython3",
   "version": "3.6.5"
  },
  "toc-autonumbering": false,
  "toc-showcode": false,
  "toc-showmarkdowntxt": false
 },
 "nbformat": 4,
 "nbformat_minor": 2
}
